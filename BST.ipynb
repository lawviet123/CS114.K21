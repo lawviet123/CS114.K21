{
  "nbformat": 4,
  "nbformat_minor": 0,
  "metadata": {
    "colab": {
      "name": "BST.ipynb",
      "provenance": [],
      "collapsed_sections": [],
      "authorship_tag": "ABX9TyPJGzWq/kqfWnPAO1UDy5aj",
      "include_colab_link": true
    },
    "kernelspec": {
      "name": "python3",
      "display_name": "Python 3"
    }
  },
  "cells": [
    {
      "cell_type": "markdown",
      "metadata": {
        "id": "view-in-github",
        "colab_type": "text"
      },
      "source": [
        "<a href=\"https://colab.research.google.com/github/lawviet123/CS114.K21/blob/master/BST.ipynb\" target=\"_parent\"><img src=\"https://colab.research.google.com/assets/colab-badge.svg\" alt=\"Open In Colab\"/></a>"
      ]
    },
    {
      "cell_type": "code",
      "metadata": {
        "id": "cmLhyilw1DKr"
      },
      "source": [
        "def partition(arr, l, r):\n",
        "    x = arr[r]\n",
        "    i = l\n",
        "    for j in range(l, r):\n",
        "\n",
        "        if arr[j] <= x:\n",
        "            arr[i], arr[j] = arr[j], arr[i]\n",
        "            i += 1\n",
        "\n",
        "    arr[i], arr[r] = arr[r], arr[i]\n",
        "    return i\n",
        "\n",
        "\n",
        "# finds the kth position (of the sorted array)\n",
        "# in a given unsorted array i.e this function\n",
        "# can be used to find both kth largest and\n",
        "# kth smallest element in the array.\n",
        "# ASSUMPTION: all elements in arr[] are distinct\n",
        "def kthSmallest(arr, l, r, k):\n",
        "    # if k is smaller than number of\n",
        "    # elements in array\n",
        "    if (k > 0 and k <= r - l + 1):\n",
        "\n",
        "        # Partition the array around last\n",
        "        # element and get position of pivot\n",
        "        # element in sorted array\n",
        "        index = partition(arr, l, r)\n",
        "\n",
        "        # if position is same as k\n",
        "        if (index - l == k - 1):\n",
        "            return arr[index]\n",
        "\n",
        "            # If position is more, recur\n",
        "        # for left subarray\n",
        "        if (index - l > k - 1):\n",
        "            return kthSmallest(arr, l, index - 1, k)\n",
        "\n",
        "            # Else recur for right subarray\n",
        "        return kthSmallest(arr, index + 1, r,\n",
        "                           k - index + l - 1)\n",
        "    return INT_MAX"
      ],
      "execution_count": null,
      "outputs": []
    },
    {
      "cell_type": "code",
      "metadata": {
        "id": "KI862elBt5oa"
      },
      "source": [
        "import cProfile\n",
        "import numpy as np\n",
        "randnums= np.random.randint(1,20851001,20851001)"
      ],
      "execution_count": null,
      "outputs": []
    },
    {
      "cell_type": "code",
      "metadata": {
        "id": "oyremcCYNufe",
        "outputId": "cfbe9a7e-64be-47c9-8c3f-8306da46c73d",
        "colab": {
          "base_uri": "https://localhost:8080/",
          "height": 33
        }
      },
      "source": [
        "print(randnums)"
      ],
      "execution_count": null,
      "outputs": [
        {
          "output_type": "stream",
          "text": [
            "[       2       37       43 ...  9018044 10600222  9258859]\n"
          ],
          "name": "stdout"
        }
      ]
    },
    {
      "cell_type": "code",
      "metadata": {
        "id": "Bq6GkfxK1MPu",
        "outputId": "d8e25a76-a627-4d70-d842-cd9fa5eb9c51",
        "colab": {
          "base_uri": "https://localhost:8080/",
          "height": 234
        }
      },
      "source": [
        "import cProfile\n",
        "cProfile.run('for i in range(1): kthSmallest(randnums,0, len(randnums) - 1, 1000)')"
      ],
      "execution_count": null,
      "outputs": [
        {
          "output_type": "stream",
          "text": [
            "         50 function calls (28 primitive calls) in 18.456 seconds\n",
            "\n",
            "   Ordered by: standard name\n",
            "\n",
            "   ncalls  tottime  percall  cumtime  percall filename:lineno(function)\n",
            "       23   18.456    0.802   18.456    0.802 <ipython-input-2-06f184169d40>:1(partition)\n",
            "     23/1    0.000    0.000   18.456   18.456 <ipython-input-2-06f184169d40>:19(kthSmallest)\n",
            "        1    0.000    0.000   18.456   18.456 <string>:1(<module>)\n",
            "        1    0.000    0.000   18.456   18.456 {built-in method builtins.exec}\n",
            "        1    0.000    0.000    0.000    0.000 {built-in method builtins.len}\n",
            "        1    0.000    0.000    0.000    0.000 {method 'disable' of '_lsprof.Profiler' objects}\n",
            "\n",
            "\n"
          ],
          "name": "stdout"
        }
      ]
    }
  ]
}