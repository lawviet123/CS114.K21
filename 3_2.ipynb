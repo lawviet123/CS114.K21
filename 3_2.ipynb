{
  "nbformat": 4,
  "nbformat_minor": 0,
  "metadata": {
    "colab": {
      "name": "3.2.ipynb",
      "provenance": [],
      "collapsed_sections": [],
      "toc_visible": true,
      "include_colab_link": true
    },
    "kernelspec": {
      "name": "python3",
      "display_name": "Python 3"
    }
  },
  "cells": [
    {
      "cell_type": "markdown",
      "metadata": {
        "id": "view-in-github",
        "colab_type": "text"
      },
      "source": [
        "<a href=\"https://colab.research.google.com/github/lawviet123/CS114.K21/blob/master/3_2.ipynb\" target=\"_parent\"><img src=\"https://colab.research.google.com/assets/colab-badge.svg\" alt=\"Open In Colab\"/></a>"
      ]
    },
    {
      "cell_type": "markdown",
      "metadata": {
        "id": "xWfzYirH5yug"
      },
      "source": [
        "# **Cấu hình máy**"
      ]
    },
    {
      "cell_type": "markdown",
      "metadata": {
        "id": "B5OilpBe7CPy"
      },
      "source": [
        "![azc.png](data:image/png;base64,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)"
      ]
    },
    {
      "cell_type": "code",
      "metadata": {
        "id": "T7tGgLRRr4mL"
      },
      "source": [
        "!cat data.csv"
      ],
      "execution_count": null,
      "outputs": []
    },
    {
      "cell_type": "code",
      "metadata": {
        "id": "wYeUrzZksJQL",
        "outputId": "f8c36e21-0dba-4d7b-9286-7fb43138f41e",
        "colab": {
          "base_uri": "https://localhost:8080/",
          "height": 527
        }
      },
      "source": [
        "import pandas as pd\n",
        "\n",
        "data = pd.read_csv('data.csv')\n",
        "print(data)\n",
        "data.columns = ['size', 'operations']\n",
        "\n",
        "import matplotlib.pyplot as plt\n",
        "plt.scatter(data['size'], data['operations'])"
      ],
      "execution_count": null,
      "outputs": [
        {
          "output_type": "stream",
          "text": [
            "       223      136011\n",
            "0      245      164603\n",
            "1      269      198548\n",
            "2      295      237492\n",
            "3      324      287651\n",
            "4      356      349847\n",
            "..     ...         ...\n",
            "75  306306  3535331767\n",
            "76  336936  1473621042\n",
            "77  370629  3580621783\n",
            "78  407691  2950839056\n",
            "79  448460  1779129117\n",
            "\n",
            "[80 rows x 2 columns]\n"
          ],
          "name": "stdout"
        },
        {
          "output_type": "execute_result",
          "data": {
            "text/plain": [
              "<matplotlib.collections.PathCollection at 0x7f03ff99e7f0>"
            ]
          },
          "metadata": {
            "tags": []
          },
          "execution_count": 6
        },
        {
          "output_type": "display_data",
          "data": {
            "image/png": "[encoded data removed]",
            "text/plain": [
              "<Figure size 432x288 with 1 Axes>"
            ]
          },
          "metadata": {
            "tags": [],
            "needs_background": "light"
          }
        }
      ]
    },
    {
      "cell_type": "code",
      "metadata": {
        "id": "qzK2fzy_sMR7"
      },
      "source": [
        "import numpy as np\n",
        "\n",
        "X_= data['size'].values.reshape(-1,1)\n",
        "X_sqrt = np.sqrt(X_)\n",
        "X_log=np.log2(X_)\n",
        "X_nlog=X_*np.log2(X_)\n",
        "X_n2=np.power(X_,2)\n",
        "print(X_n2)"
      ],
      "execution_count": null,
      "outputs": []
    },
    {
      "cell_type": "code",
      "metadata": {
        "id": "6y5OkUr-sN43",
        "outputId": "e0579c4f-e4b3-47ef-f2ba-0fa9623ecf27",
        "colab": {
          "base_uri": "https://localhost:8080/",
          "height": 100
        }
      },
      "source": [
        "from sklearn.linear_model import LinearRegression\n",
        "\n",
        "regr = LinearRegression()\n",
        "# Tìm hệ số để MSE ứng với hàm f(n) đạt min\n",
        "regr.fit(X_sqrt, data['operations'])\n",
        "print(\"Hệ số hàm sqrt(n): \",regr.coef_)\n",
        "regr.fit(X_log, data['operations'])\n",
        "print(\"Hệ số hàm log(n): \",regr.coef_)\n",
        "regr.fit(X_, data['operations'])\n",
        "print(\"Hệ số hàm N: \",regr.coef_)\n",
        "regr.fit(X_nlog, data['operations'])\n",
        "print(\"Hệ số hàm nlog(n): \",regr.coef_)\n",
        "regr.fit(X_n2, data['operations'])\n",
        "print(\"Hệ số hàm n^2: \",regr.coef_)"
      ],
      "execution_count": null,
      "outputs": [
        {
          "output_type": "stream",
          "text": [
            "Hệ số hàm sqrt(n):  [5754443.13348649]\n",
            "Hệ số hàm log(n):  [3.17019392e+08]\n",
            "Hệ số hàm N:  [8417.9551449]\n",
            "Hệ số hàm nlog(n):  [445.78613711]\n",
            "Hệ số hàm n^2:  [0.01729344]\n"
          ],
          "name": "stdout"
        }
      ]
    }
  ]
}