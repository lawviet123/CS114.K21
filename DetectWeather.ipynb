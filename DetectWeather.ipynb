{
  "nbformat": 4,
  "nbformat_minor": 0,
  "metadata": {
    "colab": {
      "name": "DetectWeather.ipynb",
      "provenance": [],
      "collapsed_sections": [],
      "authorship_tag": "ABX9TyMrxG8/U58qKMF9k7PjJCl4",
      "include_colab_link": true
    },
    "kernelspec": {
      "name": "python3",
      "display_name": "Python 3"
    }
  },
  "cells": [
    {
      "cell_type": "markdown",
      "metadata": {
        "id": "view-in-github",
        "colab_type": "text"
      },
      "source": [
        "<a href=\"https://colab.research.google.com/github/lawviet123/CS114.K21/blob/master/DetectWeather.ipynb\" target=\"_parent\"><img src=\"https://colab.research.google.com/assets/colab-badge.svg\" alt=\"Open In Colab\"/></a>"
      ]
    },
    {
      "cell_type": "code",
      "metadata": {
        "id": "phZWZoK62Jyf",
        "colab_type": "code",
        "colab": {
          "base_uri": "https://localhost:8080/",
          "height": 426
        },
        "outputId": "ff1dc452-453b-4106-eeee-347459ec9425"
      },
      "source": [
        "import requests\n",
        "\n",
        "run = True\n",
        "\n",
        "while run:\n",
        "  print(\"We have about 200.000 cities with the information about their current weather in the database \\n\")\n",
        "  city = input('which city do you want to know : ')\n",
        "\n",
        "  try : \n",
        "    url = 'http://api.openweathermap.org/data/2.5/weather?q={}&appid=a04d860843675aebff2701a3d43d9c95&units=metric'.format(city)\n",
        "    r = requests.get(url)\n",
        "    weather_infor = r.json()\n",
        "\n",
        "    name = weather_infor['name']\n",
        "    condition = weather_infor['weather'][0]['description']\n",
        "    temperature = weather_infor['main']['temp']\n",
        "    humidity = weather_infor['main']['humidity']\t  \n",
        "    output_str =  'City : %s \\nCondition: %s \\nTemperature : %s \\nHumidity : %s\\n' % (name, condition, temperature, humidity)\n",
        "  except:\n",
        "    output_str = \"we don't have information about this city. Please type again!\"\n",
        "  print(output_str)\n",
        "  check = input(\"Do you want to continue ? : (Y/N)\")\n",
        "  if (check == 'N' or check == 'n'):\n",
        "    run = False"
      ],
      "execution_count": 0,
      "outputs": [
        {
          "output_type": "stream",
          "text": [
            "We have about 200.000 cities with the information about their current weather in the database \n",
            "\n",
            "which city do you want to know : Quang Binh\n",
            "we don't have information about this city. Please type again!\n",
            "Do you want to continue ? : (Y/N)Y\n",
            "We have about 200.000 cities with the information about their current weather in the database \n",
            "\n",
            "which city do you want to know : Ha Noi\n",
            "City : Hanoi \n",
            "Condition: broken clouds \n",
            "Temperature : 24 \n",
            "Humidity : 83\n",
            "\n",
            "Do you want to continue ? : (Y/N)Y\n",
            "We have about 200.000 cities with the information about their current weather in the database \n",
            "\n",
            "which city do you want to know : Dong Hoi\n",
            "City : Kwang Binh \n",
            "Condition: moderate rain \n",
            "Temperature : 25.57 \n",
            "Humidity : 92\n",
            "\n"
          ],
          "name": "stdout"
        }
      ]
    }
  ]
}