{
  "nbformat": 4,
  "nbformat_minor": 0,
  "metadata": {
    "colab": {
      "name": "Round2.ipynb",
      "provenance": [],
      "collapsed_sections": [],
      "mount_file_id": "1FQhCDIDBmtCKS-YOpy2b_eFM-7uAlxUx",
      "authorship_tag": "ABX9TyPeegDl98ceZekaTxS7S2T7",
      "include_colab_link": true
    },
    "kernelspec": {
      "name": "python3",
      "display_name": "Python 3"
    }
  },
  "cells": [
    {
      "cell_type": "markdown",
      "metadata": {
        "id": "view-in-github",
        "colab_type": "text"
      },
      "source": [
        "<a href=\"https://colab.research.google.com/github/lawviet123/CS114.K21/blob/master/Round3.ipynb\" target=\"_parent\"><img src=\"https://colab.research.google.com/assets/colab-badge.svg\" alt=\"Open In Colab\"/></a>"
      ]
    },
    {
      "cell_type": "markdown",
      "metadata": {
        "id": "F76mmuaHtksy",
        "colab_type": "text"
      },
      "source": [
        "Import thư viện"
      ]
    },
    {
      "cell_type": "code",
      "metadata": {
        "id": "0O2Pr5EMsj8I",
        "colab_type": "code",
        "colab": {}
      },
      "source": [
        "import pandas as pd\n",
        "import matplotlib.pyplot as plt\n",
        "import random\n",
        "from sklearn.model_selection import train_test_split\n",
        "from sklearn.linear_model import LinearRegression\n",
        "import numpy as np\n",
        "from sklearn.metrics import mean_squared_error, r2_score"
      ],
      "execution_count": 0,
      "outputs": []
    },
    {
      "cell_type": "markdown",
      "metadata": {
        "id": "JUhy7oQHvV0t",
        "colab_type": "text"
      },
      "source": [
        "# **1. Cách lấy dữ liệu.**"
      ]
    },
    {
      "cell_type": "markdown",
      "metadata": {
        "id": "T1-Y_muuuauu",
        "colab_type": "text"
      },
      "source": [
        "# ***Tải dữ liệu lên bằng dòng lệnh : time_df = pd.read_csv('url', names=[\"size\", \"time\"]) ***"
      ]
    },
    {
      "cell_type": "code",
      "metadata": {
        "id": "4tG41ONktnkk",
        "colab_type": "code",
        "outputId": "d6baf492-a6b5-439a-f8b1-97a6a0c1cee3",
        "colab": {
          "base_uri": "https://localhost:8080/",
          "height": 118
        }
      },
      "source": [
        "url='http://cs.uit.edu.vn/data2.txt'\n",
        "time_df = pd.read_csv(url, names=[\"size\", \"time\"])\n",
        "size = time_df['size'].astype(float)\n",
        "\n",
        "size_n2 = pow(size, 2)\n",
        "size_log = size * np.log2(size)\n",
        "\n",
        "time_df['size_n2'] = size_n2\n",
        "time_df['size_log'] = size_log\n",
        "column_names = ['size', 'size_n2', 'size_log', 'time']\n",
        "pr_df = time_df.reindex(columns=column_names)\n",
        "\n",
        "data = pr_df[['size', 'size_n2', 'size_log']].values\n",
        "labels = pr_df['time'].values\n",
        "print(pr_df.head(5))"
      ],
      "execution_count": 0,
      "outputs": [
        {
          "output_type": "stream",
          "text": [
            "      size       size_n2      size_log      time\n",
            "0  6083695  3.701134e+13  1.371053e+08  0.521842\n",
            "1  1954367  3.819550e+12  4.084289e+07  0.152648\n",
            "2  3734185  1.394414e+13  8.152608e+07  0.298548\n",
            "3  5839301  3.409744e+13  1.312521e+08  0.460480\n",
            "4  6343427  4.023907e+13  1.433413e+08  0.527977\n"
          ],
          "name": "stdout"
        }
      ]
    },
    {
      "cell_type": "markdown",
      "metadata": {
        "id": "mkTYQoMrvs5u",
        "colab_type": "text"
      },
      "source": [
        "# **2. Chọn model là linear Regression.**\n",
        "\n",
        "# **Chia thành 80% để train và 20% để test**"
      ]
    },
    {
      "cell_type": "code",
      "metadata": {
        "id": "Ox0RgBC2uL_b",
        "colab_type": "code",
        "outputId": "31c16273-d9f5-4dac-e3c0-19a942ab7f59",
        "colab": {
          "base_uri": "https://localhost:8080/",
          "height": 101
        }
      },
      "source": [
        "X_train, X_test, y_train, y_test = train_test_split(data, labels, test_size=0.2, random_state=0)\n",
        "print(X_test[:5])"
      ],
      "execution_count": 0,
      "outputs": [
        {
          "output_type": "stream",
          "text": [
            "[[2.66162600e+06 7.08425296e+12 5.68094165e+07]\n",
            " [7.54827800e+06 5.69765008e+13 1.72460913e+08]\n",
            " [2.31665100e+06 5.36687186e+12 4.89823636e+07]\n",
            " [1.97702800e+06 3.90863971e+12 4.13493466e+07]\n",
            " [6.33747800e+06 4.01636274e+13 1.43198341e+08]]\n"
          ],
          "name": "stdout"
        }
      ]
    },
    {
      "cell_type": "code",
      "metadata": {
        "id": "chT2l6oKuOfe",
        "colab_type": "code",
        "outputId": "b0e65b14-2b6a-4f5f-825a-d26ba1355d15",
        "colab": {
          "base_uri": "https://localhost:8080/",
          "height": 34
        }
      },
      "source": [
        "lire = LinearRegression()\n",
        "lire.fit(X_train, y_train)"
      ],
      "execution_count": 0,
      "outputs": [
        {
          "output_type": "execute_result",
          "data": {
            "text/plain": [
              "LinearRegression(copy_X=True, fit_intercept=True, n_jobs=None, normalize=False)"
            ]
          },
          "metadata": {
            "tags": []
          },
          "execution_count": 5
        }
      ]
    },
    {
      "cell_type": "code",
      "metadata": {
        "id": "z5t0fLgauROs",
        "colab_type": "code",
        "outputId": "b1ecb511-0c16-4844-a117-c68660b07c9b",
        "colab": {
          "base_uri": "https://localhost:8080/",
          "height": 50
        }
      },
      "source": [
        "y_pred = lire.predict(X_test)\n",
        "print('weight: ', lire.coef_)\n",
        "print('bias: ',lire.intercept_)"
      ],
      "execution_count": 0,
      "outputs": [
        {
          "output_type": "stream",
          "text": [
            "weight:  [ 4.64869785e-09 -1.34867177e-17  3.40724362e-09]\n",
            "bias:  0.0002330963442465639\n"
          ],
          "name": "stdout"
        }
      ]
    },
    {
      "cell_type": "markdown",
      "metadata": {
        "id": "_4nZU2DAwtXr",
        "colab_type": "text"
      },
      "source": [
        "# **4.Khả năng dự đoán của ứng dụng là tốt vì mean squared error = 0.00**\n",
        "\n",
        "# **Khả năng dự đoán tốt hay không dựa vào Mean squared error**"
      ]
    },
    {
      "cell_type": "code",
      "metadata": {
        "id": "HAywFBneuwk-",
        "colab_type": "code",
        "outputId": "3c642420-4931-4639-f7b1-94d931cada30",
        "colab": {
          "base_uri": "https://localhost:8080/",
          "height": 67
        }
      },
      "source": [
        "print(mean_squared_error(y_test, y_pred))\n",
        "print('Mean squared error: %.2f' % mean_squared_error(y_test, y_pred))\n",
        "\n",
        "print('Coefficient of determination: %.2f' % r2_score(y_test, y_pred))"
      ],
      "execution_count": 0,
      "outputs": [
        {
          "output_type": "stream",
          "text": [
            "0.00013063874994216244\n",
            "Mean squared error: 0.00\n",
            "Coefficient of determination: 1.00\n"
          ],
          "name": "stdout"
        }
      ]
    },
    {
      "cell_type": "markdown",
      "metadata": {
        "id": "RHvqbvRgGioJ",
        "colab_type": "text"
      },
      "source": [
        "# **Xây dựng model mới**"
      ]
    },
    {
      "cell_type": "markdown",
      "metadata": {
        "id": "bAB3eutpZ-7-",
        "colab_type": "text"
      },
      "source": [
        "# Ta sẽ tăng thêm 2 features size**2 và size.log(size) "
      ]
    },
    {
      "cell_type": "code",
      "metadata": {
        "id": "gF85omIpU6QS",
        "colab_type": "code",
        "colab": {
          "base_uri": "https://localhost:8080/",
          "height": 118
        },
        "outputId": "599e7d74-a4f2-4bc6-c800-52e238ec1b6f"
      },
      "source": [
        "url ='http://cs.uit.edu.vn/data3.txt'\n",
        "ime_df = pd.read_csv(url, names=[\"size\", \"time\"])\n",
        "size = time_df['size'].astype(float)\n",
        "\n",
        "size_n2 = pow(size, 2)\n",
        "size_log = size * np.log2(size)\n",
        "\n",
        "time_df['size_n2'] = size_n2\n",
        "time_df['size_log'] = size_log\n",
        "column_names = ['size', 'size_n2', 'size_log', 'time']\n",
        "pr_df = time_df.reindex(columns=column_names)\n",
        "\n",
        "data = pr_df[['size', 'size_n2', 'size_log']].values\n",
        "labels = pr_df['time'].values\n",
        "print(pr_df.head(5))"
      ],
      "execution_count": 19,
      "outputs": [
        {
          "output_type": "stream",
          "text": [
            "       size       size_n2      size_log     time\n",
            "0  37837612  1.431685e+15  9.524982e+08  4.12166\n",
            "1  37395246  1.398404e+15  9.407280e+08  3.92089\n",
            "2  36610827  1.340353e+15  9.198751e+08  3.21540\n",
            "3  29555651  8.735365e+14  7.334805e+08  2.54506\n",
            "4  25928216  6.722724e+14  6.385606e+08  2.21831\n"
          ],
          "name": "stdout"
        }
      ]
    },
    {
      "cell_type": "markdown",
      "metadata": {
        "id": "Prqi3hJZKQbS",
        "colab_type": "text"
      },
      "source": [
        "# **Ta sử dung tăng số features**"
      ]
    },
    {
      "cell_type": "code",
      "metadata": {
        "id": "HGwWVrwyJxXo",
        "colab_type": "code",
        "outputId": "9fc85f80-f650-41cd-c180-3504ab87ba4a",
        "colab": {
          "base_uri": "https://localhost:8080/",
          "height": 118
        }
      },
      "source": [
        "size = time_df['size'].astype(float)\n",
        "\n",
        "size_n2 = pow(size, 2)\n",
        "size_log = size * np.log2(size)\n",
        "\n",
        "time_df['size_n2'] = size_n2\n",
        "time_df['size_log'] = size_log\n",
        "column_names = ['size', 'size_n2', 'size_log', 'time']\n",
        "pr_df = time_df.reindex(columns=column_names)\n",
        "\n",
        "data = pr_df[['size', 'size_n2', 'size_log']].values\n",
        "labels = pr_df['time'].values\n",
        "print(pr_df.head(5))"
      ],
      "execution_count": 20,
      "outputs": [
        {
          "output_type": "stream",
          "text": [
            "       size       size_n2      size_log     time\n",
            "0  37837612  1.431685e+15  9.524982e+08  4.12166\n",
            "1  37395246  1.398404e+15  9.407280e+08  3.92089\n",
            "2  36610827  1.340353e+15  9.198751e+08  3.21540\n",
            "3  29555651  8.735365e+14  7.334805e+08  2.54506\n",
            "4  25928216  6.722724e+14  6.385606e+08  2.21831\n"
          ],
          "name": "stdout"
        }
      ]
    },
    {
      "cell_type": "markdown",
      "metadata": {
        "id": "1WqGt2awQ6ox",
        "colab_type": "text"
      },
      "source": [
        "# **Chia dữ liệu thành huấn luyện 80% và test 20%**"
      ]
    },
    {
      "cell_type": "code",
      "metadata": {
        "id": "klZFy0VeQ5Ck",
        "colab_type": "code",
        "outputId": "b7bdc3f1-d8ac-42a6-c128-d9a2da355840",
        "colab": {
          "base_uri": "https://localhost:8080/",
          "height": 101
        }
      },
      "source": [
        "X_train, X_test, y_train, y_test = train_test_split(data, labels, test_size=0.2, random_state=0)\n",
        "print(X_test[:5])"
      ],
      "execution_count": 21,
      "outputs": [
        {
          "output_type": "stream",
          "text": [
            "[[3.90274990e+07 1.52314568e+15 9.84194989e+08]\n",
            " [2.67671810e+07 7.16481979e+14 6.60452403e+08]\n",
            " [3.67649930e+07 1.35166471e+15 9.23971531e+08]\n",
            " [2.92873050e+07 8.57746234e+14 7.26435639e+08]\n",
            " [3.43621860e+07 1.18075983e+15 8.60233908e+08]]\n"
          ],
          "name": "stdout"
        }
      ]
    },
    {
      "cell_type": "code",
      "metadata": {
        "id": "j7K0QhHqQ_wH",
        "colab_type": "code",
        "outputId": "7b847ff9-876c-46cf-f81d-a54ea9f94b6e",
        "colab": {
          "base_uri": "https://localhost:8080/",
          "height": 50
        }
      },
      "source": [
        "# choose model Linearn Regression\n",
        "lire = LinearRegression()\n",
        "lire.fit(X_train, y_train)\n",
        "y_pred = lire.predict(X_test)\n",
        "print('Mean squared error: ' , mean_squared_error(y_test, y_pred))\n",
        "# The coefficient of determination: 1 is perfect prediction\n",
        "print('Coefficient of determination: %.2f' % r2_score(y_test, y_pred))"
      ],
      "execution_count": 22,
      "outputs": [
        {
          "output_type": "stream",
          "text": [
            "Mean squared error:  0.002978417253932674\n",
            "Coefficient of determination: 0.99\n"
          ],
          "name": "stdout"
        }
      ]
    }
  ]
}