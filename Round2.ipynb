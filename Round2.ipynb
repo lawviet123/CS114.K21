{
  "nbformat": 4,
  "nbformat_minor": 0,
  "metadata": {
    "colab": {
      "name": "Round2.ipynb",
      "provenance": [],
      "collapsed_sections": [],
      "authorship_tag": "ABX9TyMZoeN2fHn4p7I7U0x/VLRG",
      "include_colab_link": true
    },
    "kernelspec": {
      "name": "python3",
      "display_name": "Python 3"
    }
  },
  "cells": [
    {
      "cell_type": "markdown",
      "metadata": {
        "id": "view-in-github",
        "colab_type": "text"
      },
      "source": [
        "<a href=\"https://colab.research.google.com/github/lawviet123/CS114.K21/blob/master/Round2.ipynb\" target=\"_parent\"><img src=\"https://colab.research.google.com/assets/colab-badge.svg\" alt=\"Open In Colab\"/></a>"
      ]
    },
    {
      "cell_type": "markdown",
      "metadata": {
        "id": "F76mmuaHtksy",
        "colab_type": "text"
      },
      "source": [
        "Import thư viện"
      ]
    },
    {
      "cell_type": "code",
      "metadata": {
        "id": "0O2Pr5EMsj8I",
        "colab_type": "code",
        "colab": {}
      },
      "source": [
        "import pandas as pd\n",
        "import matplotlib.pyplot as plt\n",
        "import random\n",
        "from sklearn.model_selection import train_test_split\n",
        "from sklearn.linear_model import LinearRegression\n",
        "import numpy as np\n",
        "from sklearn.metrics import mean_squared_error, r2_score"
      ],
      "execution_count": 0,
      "outputs": []
    },
    {
      "cell_type": "markdown",
      "metadata": {
        "id": "JUhy7oQHvV0t",
        "colab_type": "text"
      },
      "source": [
        "# **1. Cách lấy dữ liệu.**"
      ]
    },
    {
      "cell_type": "markdown",
      "metadata": {
        "id": "T1-Y_muuuauu",
        "colab_type": "text"
      },
      "source": [
        "# ***Tải dữ liệu về và lưu với đuôi csv.***\n",
        "\n",
        "# **Tải dữ liệu lên Google Drive.**\n",
        "\n",
        "# ***Tải dữ liệu lên bằng dòng lệnh : time_df = pd.read_csv('data1.csv', names=[\"size\", \"time\"]) ***"
      ]
    },
    {
      "cell_type": "code",
      "metadata": {
        "id": "4tG41ONktnkk",
        "colab_type": "code",
        "colab": {
          "base_uri": "https://localhost:8080/",
          "height": 118
        },
        "outputId": "81d08b56-6c9f-4d87-f0b3-8e0788284002"
      },
      "source": [
        "time_df = pd.read_csv('data1.csv', names=[\"size\", \"time\"])\n",
        "size = time_df['size'].astype(float)\n",
        "\n",
        "size_n2 = pow(size, 2)\n",
        "size_log = size * np.log2(size)\n",
        "\n",
        "time_df['size_n2'] = size_n2\n",
        "time_df['size_log'] = size_log\n",
        "column_names = ['size', 'size_n2', 'size_log', 'time']\n",
        "pr_df = time_df.reindex(columns=column_names)\n",
        "\n",
        "data = pr_df[['size', 'size_n2', 'size_log']].values\n",
        "labels = pr_df['time'].values\n",
        "print(pr_df.head(5))"
      ],
      "execution_count": 2,
      "outputs": [
        {
          "output_type": "stream",
          "text": [
            "      size       size_n2      size_log      time\n",
            "0  6083695  3.701134e+13  1.371053e+08  0.521842\n",
            "1  1954367  3.819550e+12  4.084289e+07  0.152648\n",
            "2  3734185  1.394414e+13  8.152608e+07  0.298548\n",
            "3  5839301  3.409744e+13  1.312521e+08  0.460480\n",
            "4  6343427  4.023907e+13  1.433413e+08  0.527977\n"
          ],
          "name": "stdout"
        }
      ]
    },
    {
      "cell_type": "markdown",
      "metadata": {
        "id": "mkTYQoMrvs5u",
        "colab_type": "text"
      },
      "source": [
        "# **2. Chọn model là linear Regression.**\n",
        "\n",
        "# **Chia thành 80% để train và 20% để test**"
      ]
    },
    {
      "cell_type": "code",
      "metadata": {
        "id": "Ox0RgBC2uL_b",
        "colab_type": "code",
        "colab": {
          "base_uri": "https://localhost:8080/",
          "height": 101
        },
        "outputId": "bc728954-e1ca-4983-d4ac-7a65734aa3f6"
      },
      "source": [
        "X_train, X_test, y_train, y_test = train_test_split(data, labels, test_size=0.2, random_state=0)\n",
        "print(X_test[:5])"
      ],
      "execution_count": 7,
      "outputs": [
        {
          "output_type": "stream",
          "text": [
            "[[2.66162600e+06 7.08425296e+12 5.68094165e+07]\n",
            " [7.54827800e+06 5.69765008e+13 1.72460913e+08]\n",
            " [2.31665100e+06 5.36687186e+12 4.89823636e+07]\n",
            " [1.97702800e+06 3.90863971e+12 4.13493466e+07]\n",
            " [6.33747800e+06 4.01636274e+13 1.43198341e+08]]\n"
          ],
          "name": "stdout"
        }
      ]
    },
    {
      "cell_type": "code",
      "metadata": {
        "id": "chT2l6oKuOfe",
        "colab_type": "code",
        "colab": {
          "base_uri": "https://localhost:8080/",
          "height": 34
        },
        "outputId": "46a4880f-1c0d-451a-941e-f7ff0674229d"
      },
      "source": [
        "lire = LinearRegression()\n",
        "lire.fit(X_train, y_train)"
      ],
      "execution_count": 4,
      "outputs": [
        {
          "output_type": "execute_result",
          "data": {
            "text/plain": [
              "LinearRegression(copy_X=True, fit_intercept=True, n_jobs=None, normalize=False)"
            ]
          },
          "metadata": {
            "tags": []
          },
          "execution_count": 4
        }
      ]
    },
    {
      "cell_type": "code",
      "metadata": {
        "id": "z5t0fLgauROs",
        "colab_type": "code",
        "colab": {
          "base_uri": "https://localhost:8080/",
          "height": 50
        },
        "outputId": "8a9fa4d7-7aa9-473b-ad65-b7ad38b6f72a"
      },
      "source": [
        "y_pred = lire.predict(X_test)\n",
        "print('weight: ', lire.coef_)\n",
        "print('bias: ',lire.intercept_)"
      ],
      "execution_count": 5,
      "outputs": [
        {
          "output_type": "stream",
          "text": [
            "weight:  [ 4.64869785e-09 -1.34867177e-17  3.40724362e-09]\n",
            "bias:  0.0002330963442465639\n"
          ],
          "name": "stdout"
        }
      ]
    },
    {
      "cell_type": "markdown",
      "metadata": {
        "id": "_4nZU2DAwtXr",
        "colab_type": "text"
      },
      "source": [
        "# **4.Khả năng dự đoán của ứng dụng là tốt vì mean squared error = 0.00**\n",
        "\n",
        "# **Khả năng dự đoán tốt hay không dựa vào Mean squared error**"
      ]
    },
    {
      "cell_type": "code",
      "metadata": {
        "id": "HAywFBneuwk-",
        "colab_type": "code",
        "colab": {
          "base_uri": "https://localhost:8080/",
          "height": 50
        },
        "outputId": "6b67ba25-1483-44d3-c2f2-5ad552d2bda4"
      },
      "source": [
        "print('Mean squared error: %.2f' % mean_squared_error(y_test, y_pred))\n",
        "print('Coefficient of determination: %.2f' % r2_score(y_test, y_pred))"
      ],
      "execution_count": 6,
      "outputs": [
        {
          "output_type": "stream",
          "text": [
            "Mean squared error: 0.00\n",
            "Coefficient of determination: 1.00\n"
          ],
          "name": "stdout"
        }
      ]
    }
  ]
}